{
 "cells": [
  {
   "cell_type": "code",
   "execution_count": 5,
   "id": "c9bbe539-c87d-4838-8ae4-d20a671211e3",
   "metadata": {},
   "outputs": [
    {
     "name": "stdout",
     "output_type": "stream",
     "text": [
      "['Just', 'received', 'my', 'M', 'Sc', 'diploma', 'today', 'on', '2024', '02', '10', 'Excited', 'to', 'embark', 'on', 'this', 'new', 'journey', 'of', 'knowledge', 'and', 'discovery', 'MScGraduate', 'EducationMatters']\n"
     ]
    }
   ],
   "source": [
    "import re\n",
    "\n",
    "def custom_tokenizer(text):\n",
    "    pattern = r'\\b\\w+\\b'\n",
    "    tokens = re.findall(pattern, text)\n",
    "    return tokens\n",
    "\n",
    "text = \"Just received my M.Sc. diploma today, on 2024/02/10! Excited to embark on this new journey of knowledge and discovery. #MScGraduate #EducationMatters.\"\n",
    "tokens = custom_tokenizer(text)\n",
    "print(tokens)\n"
   ]
  },
  {
   "cell_type": "markdown",
   "id": "1023b586-f1d4-4de5-b932-33e052a5849f",
   "metadata": {},
   "source": [
    "### corrected version of custome_tokenizer, solving M.Sc tokenizing problem"
   ]
  },
  {
   "cell_type": "code",
   "execution_count": 8,
   "id": "c4fa1269-e435-4f09-8130-ab1c60839ab8",
   "metadata": {},
   "outputs": [
    {
     "name": "stdout",
     "output_type": "stream",
     "text": [
      "['Just', 'received', 'my', 'M.Sc', 'diploma', 'today', 'on', '2024', '02', '10', 'Excited', 'to', 'embark', 'on', 'this', 'new', 'journey', 'of', 'knowledge', 'and', 'discovery', 'MScGraduate', 'EducationMatters']\n"
     ]
    }
   ],
   "source": [
    "import re\n",
    "\n",
    "def custom_tokenizer(text):\n",
    "    pattern = r'\\b(?:[A-Z][a-z]*\\.?)+\\b|\\b\\w+\\b'\n",
    "    tokens = re.findall(pattern, text)\n",
    "    return tokens\n",
    "\n",
    "text = \"Just received my M.Sc. diploma today, on 2024/02/10! Excited to embark on this new journey of knowledge and discovery. #MScGraduate #EducationMatters.\"\n",
    "tokens = custom_tokenizer(text)\n",
    "print(tokens)\n"
   ]
  },
  {
   "cell_type": "code",
   "execution_count": null,
   "id": "02faeaa8-bcff-44ca-892c-e2028927641b",
   "metadata": {},
   "outputs": [],
   "source": []
  }
 ],
 "metadata": {
  "kernelspec": {
   "display_name": "Python 3 (ipykernel)",
   "language": "python",
   "name": "python3"
  },
  "language_info": {
   "codemirror_mode": {
    "name": "ipython",
    "version": 3
   },
   "file_extension": ".py",
   "mimetype": "text/x-python",
   "name": "python",
   "nbconvert_exporter": "python",
   "pygments_lexer": "ipython3",
   "version": "3.11.6"
  }
 },
 "nbformat": 4,
 "nbformat_minor": 5
}
