{
 "cells": [
  {
   "cell_type": "code",
   "execution_count": 2,
   "metadata": {
    "id": "o7VelLEw17ka"
   },
   "outputs": [
    {
     "name": "stderr",
     "output_type": "stream",
     "text": [
      "[nltk_data] Downloading package punkt to /home/ghadyani/nltk_data...\n",
      "[nltk_data]   Package punkt is already up-to-date!\n"
     ]
    },
    {
     "data": {
      "text/plain": [
       "True"
      ]
     },
     "execution_count": 2,
     "metadata": {},
     "output_type": "execute_result"
    }
   ],
   "source": [
    "import nltk\n",
    "import numpy as np\n",
    "import pandas as pd\n",
    "from nltk import ngrams\n",
    "from nltk.probability import FreqDist\n",
    "from sklearn.metrics import accuracy_score\n",
    "from sklearn.model_selection import train_test_split\n",
    "\n",
    "nltk.download('punkt')"
   ]
  },
  {
   "cell_type": "code",
   "execution_count": 3,
   "metadata": {
    "id": "2ROsWwTCGyRC"
   },
   "outputs": [],
   "source": [
    "\n",
    "data = pd.read_csv('google_play_store_apps_reviews.csv')\n",
    "\n",
    "\n",
    "train_data, test_data = train_test_split(data, test_size = 0.2, random_state = 42)"
   ]
  },
  {
   "cell_type": "code",
   "execution_count": 4,
   "metadata": {
    "id": "LCLxiqPwvdoc"
   },
   "outputs": [],
   "source": [
    "\n",
    "def get_ngrams(text, n):\n",
    "    tokens = nltk.word_tokenize(text)\n",
    "    return list(ngrams(tokens, n))\n",
    "\n",
    "def train_ngram(data, n):\n",
    "    positive_ngrams = []\n",
    "    negative_ngrams = []\n",
    "\n",
    "    for index, row in data.iterrows():\n",
    "        grams = get_ngrams(row['review'], n)\n",
    "        if row['polarity'] == 1:\n",
    "            positive_ngrams.extend(grams)\n",
    "        elif row['polarity'] == 0:\n",
    "            negative_ngrams.extend(grams)\n",
    "\n",
    "    positive_freq = FreqDist(positive_ngrams)\n",
    "    negative_freq = FreqDist(negative_ngrams)\n",
    "\n",
    "    return positive_freq, negative_freq\n",
    "\n",
    "\n",
    "n = 2  \n",
    "positive_freq, negative_freq = train_ngram(train_data, n)"
   ]
  },
  {
   "cell_type": "code",
   "execution_count": 6,
   "metadata": {},
   "outputs": [],
   "source": [
    "def test_ngram(data, positive_freq, negative_freq, n):\n",
    "    \n",
    "    pred_labels = []\n",
    "    \n",
    "    for index, row in data.iterrows():\n",
    "        # tokenize the review into n-grams\n",
    "        grams = get_ngrams(row['review'], n)\n",
    "        \n",
    "        # total probability of positive and negative n-grams\n",
    "        positive_prob = sum([positive_freq[gram] for gram in grams])\n",
    "        negative_prob = sum([negative_freq[gram] for gram in grams])\n",
    "        \n",
    "        # predict the label based on which probability is higher\n",
    "        pred_label = 1 if positive_prob > negative_prob else 0\n",
    "        \n",
    "     \n",
    "        pred_labels.append(pred_label)\n",
    "    \n",
    "    \n",
    "    return pred_labels\n"
   ]
  },
  {
   "cell_type": "code",
   "execution_count": 7,
   "metadata": {},
   "outputs": [
    {
     "name": "stdout",
     "output_type": "stream",
     "text": [
      "Accuracy: 0.7653631284916201\n"
     ]
    }
   ],
   "source": [
    "from sklearn.metrics import accuracy_score\n",
    "\n",
    "\n",
    "actual_labels = test_data['polarity']\n",
    "\n",
    "\n",
    "pred_labels = test_ngram(test_data, positive_freq, negative_freq, n)\n",
    "\n",
    "\n",
    "accuracy = accuracy_score(actual_labels, pred_labels)\n",
    "print(\"Accuracy:\", accuracy)\n"
   ]
  },
  {
   "cell_type": "code",
   "execution_count": null,
   "metadata": {},
   "outputs": [],
   "source": []
  }
 ],
 "metadata": {
  "colab": {
   "provenance": []
  },
  "kernelspec": {
   "display_name": "Python 3 (ipykernel)",
   "language": "python",
   "name": "python3"
  },
  "language_info": {
   "codemirror_mode": {
    "name": "ipython",
    "version": 3
   },
   "file_extension": ".py",
   "mimetype": "text/x-python",
   "name": "python",
   "nbconvert_exporter": "python",
   "pygments_lexer": "ipython3",
   "version": "3.11.6"
  }
 },
 "nbformat": 4,
 "nbformat_minor": 4
}
